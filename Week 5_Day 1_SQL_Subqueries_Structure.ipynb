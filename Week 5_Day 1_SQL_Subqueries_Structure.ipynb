{
 "cells": [
  {
   "cell_type": "markdown",
   "metadata": {},
   "source": [
    "## Connect to BigQuery"
   ]
  },
  {
   "cell_type": "code",
   "execution_count": 4,
   "metadata": {},
   "outputs": [],
   "source": [
    "import os\n",
    "os.environ[\"GOOGLE_APPLICATION_CREDENTIALS\"]=\"/Users/JCasado/Desktop/IRONHACK/ironhack_service_account_big_query.json\""
   ]
  },
  {
   "cell_type": "code",
   "execution_count": 5,
   "metadata": {},
   "outputs": [],
   "source": [
    "from google.cloud import bigquery"
   ]
  },
  {
   "cell_type": "code",
   "execution_count": 6,
   "metadata": {},
   "outputs": [],
   "source": [
    "client = bigquery.Client()"
   ]
  },
  {
   "cell_type": "markdown",
   "metadata": {
    "collapsed": true
   },
   "source": [
    "## Subqueries"
   ]
  },
  {
   "cell_type": "code",
   "execution_count": null,
   "metadata": {
    "collapsed": true
   },
   "outputs": [],
   "source": [
    "# If we wanted to then show the average number of items per order and average quantity per item for each store\n",
    "# en las slides esta el ejemplo tal cual de las stores"
   ]
  },
  {
   "cell_type": "code",
   "execution_count": null,
   "metadata": {},
   "outputs": [],
   "source": []
  },
  {
   "cell_type": "code",
   "execution_count": null,
   "metadata": {
    "collapsed": true
   },
   "outputs": [],
   "source": [
    "# Suppose we wanted to see sales by title for the two stores that averaged more than one item per order. \n",
    "# We can obtain these results by adding the stor_id field to our subquery, joining the subquery results to the sales table, \n",
    "# creating another join between the sales table and the title table, and then adding a WHERE clause to the main query so \n",
    "# that it returns only results \n",
    "# where the average items per order were greater than 1."
   ]
  },
  {
   "cell_type": "code",
   "execution_count": 16,
   "metadata": {},
   "outputs": [],
   "source": [
    "query='''\n",
    "\n",
    "    '''"
   ]
  },
  {
   "cell_type": "code",
   "execution_count": null,
   "metadata": {},
   "outputs": [],
   "source": [
    "#ejemplo para sacar la cantidad total de items de la tienda Eric the Read Books\n",
    "'''\n",
    "SELECT\n",
    "    stores.stor_name,\n",
    "    sales.ord_date,\n",
    "    titles.title,\n",
    "    sales.qty,\n",
    "    summary.quantity_total\n",
    "\n",
    "FROM\n",
    "    (SELECT\n",
    "        store id\n",
    "        SUM(qty) AS quantity_total\n",
    "    FROM\n",
    "        'ironhack-data-analytics-265219.publications.sales'\n",
    "    GROUP BY 1) summary\n",
    "    JOIN\n",
    "        'ironhack-data-analytics-265219.publications.stores' stores\n",
    "    ON\n",
    "        summary.stor_id=stores.stor_id\n",
    "    JOIN\n",
    "        'ironhack-data-analytics-265219.publications.stores' sales\n",
    "    ON\n",
    "        summary.stor_id=sales.stor_id\n",
    "    JOIN\n",
    "        'ironhack-data-analytics-265219.publications.titles' titles\n",
    "    ON \n",
    "    titles.title_id=sales.title_id\n",
    "WHERE\n",
    "    store.stor_name=\"Eric the Read Books\"\n",
    "    o bien\n",
    "    summary.quantity_total=8 (todas las tiendas que hayan vendido 8)\n",
    "\n",
    "\n",
    "\n",
    "\n",
    "    '''"
   ]
  },
  {
   "cell_type": "code",
   "execution_count": null,
   "metadata": {},
   "outputs": [],
   "source": []
  },
  {
   "cell_type": "markdown",
   "metadata": {},
   "source": [
    "__What are the most popular Citibike destinations for NYC couples?__\n",
    "\n",
    "- Group Citibike trips together into ones that start and end at about the same time. \n",
    "- If the grouped-together trip had more than one person in it, then it’s counted as a group trip. \n",
    "- This could be a couple riding together, or a group of friends or family. \n",
    "- Possibly it could be people that happened to check out a bike at the same time and go to the same place at the same rate- considering that a rare occurrence. \n",
    "- Find which stations have the highest percentage of trips from groups versus single-rider trips.\n",
    "\n",
    "https://medium.com/@TimSwast/what-are-the-most-popular-citibike-destinations-for-nyc-couples-1baf646fbba"
   ]
  },
  {
   "cell_type": "code",
   "execution_count": null,
   "metadata": {
    "collapsed": true
   },
   "outputs": [],
   "source": [
    "# Use this table `bigquery-public-data.new_york.citibike_trips`\n",
    "\n",
    "query_subquery='''\n",
    "\n",
    "'''"
   ]
  },
  {
   "cell_type": "markdown",
   "metadata": {},
   "source": [
    "## Action queries "
   ]
  },
  {
   "cell_type": "code",
   "execution_count": null,
   "metadata": {},
   "outputs": [],
   "source": []
  },
  {
   "cell_type": "code",
   "execution_count": null,
   "metadata": {},
   "outputs": [],
   "source": []
  },
  {
   "cell_type": "code",
   "execution_count": null,
   "metadata": {},
   "outputs": [],
   "source": []
  }
 ],
 "metadata": {
  "kernelspec": {
   "display_name": "Python 3",
   "language": "python",
   "name": "python3"
  },
  "language_info": {
   "codemirror_mode": {
    "name": "ipython",
    "version": 3
   },
   "file_extension": ".py",
   "mimetype": "text/x-python",
   "name": "python",
   "nbconvert_exporter": "python",
   "pygments_lexer": "ipython3",
   "version": "3.7.4"
  }
 },
 "nbformat": 4,
 "nbformat_minor": 2
}
