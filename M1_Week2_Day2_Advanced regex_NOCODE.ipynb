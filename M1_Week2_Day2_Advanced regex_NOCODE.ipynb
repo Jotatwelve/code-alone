{
 "cells": [
  {
   "cell_type": "markdown",
   "metadata": {},
   "source": [
    "## Advanced Regex"
   ]
  },
  {
   "cell_type": "code",
   "execution_count": 1,
   "metadata": {
    "ExecuteTime": {
     "end_time": "2019-12-16T19:31:27.973122Z",
     "start_time": "2019-12-16T19:31:27.969791Z"
    }
   },
   "outputs": [],
   "source": [
    "import re"
   ]
  },
  {
   "cell_type": "code",
   "execution_count": 3,
   "metadata": {
    "ExecuteTime": {
     "end_time": "2019-12-16T19:31:27.977953Z",
     "start_time": "2019-12-16T19:31:27.975460Z"
    }
   },
   "outputs": [],
   "source": [
    "text = \"That person wears marvelous trousers.\""
   ]
  },
  {
   "cell_type": "markdown",
   "metadata": {
    "ExecuteTime": {
     "end_time": "2019-12-16T19:24:13.221298Z",
     "start_time": "2019-12-16T19:24:13.217813Z"
    }
   },
   "source": [
    "Find the following pattern in the text:\n",
    "- Character: 'a'\n",
    "- Sequence of characters: 'er'\n",
    "- All instances of e or r    "
   ]
  },
  {
   "cell_type": "code",
   "execution_count": 4,
   "metadata": {},
   "outputs": [
    {
     "data": {
      "text/plain": [
       "['a', 'a', 'a']"
      ]
     },
     "execution_count": 4,
     "metadata": {},
     "output_type": "execute_result"
    }
   ],
   "source": [
    "re.findall('a',text)"
   ]
  },
  {
   "cell_type": "code",
   "execution_count": 5,
   "metadata": {},
   "outputs": [
    {
     "data": {
      "text/plain": [
       "['er', 'er']"
      ]
     },
     "execution_count": 5,
     "metadata": {},
     "output_type": "execute_result"
    }
   ],
   "source": [
    "re.findall('er',text)\n",
    "#te muestra cuando hay er junto en el texto"
   ]
  },
  {
   "cell_type": "code",
   "execution_count": 6,
   "metadata": {},
   "outputs": [
    {
     "data": {
      "text/plain": [
       "['e', 'r', 'e', 'r', 'r', 'e', 'r', 'e', 'r']"
      ]
     },
     "execution_count": 6,
     "metadata": {},
     "output_type": "execute_result"
    }
   ],
   "source": [
    "re.findall('[er]',text)\n",
    "#te muestra cuando hay una e y una r por separado"
   ]
  },
  {
   "cell_type": "code",
   "execution_count": 8,
   "metadata": {
    "ExecuteTime": {
     "end_time": "2019-12-16T19:31:28.053478Z",
     "start_time": "2019-12-16T19:31:28.050901Z"
    },
    "code_folding": []
   },
   "outputs": [],
   "source": [
    "text = \"\"\"My boss asked me to turn in my TPS reports.\n",
    "        I told him they were done, but they are not.\"\"\""
   ]
  },
  {
   "cell_type": "markdown",
   "metadata": {
    "ExecuteTime": {
     "end_time": "2019-12-16T19:24:13.221298Z",
     "start_time": "2019-12-16T19:24:13.217813Z"
    }
   },
   "source": [
    "Find the following pattern in the text:\n",
    "- Every character except for the newline\n",
    "- Every character not in range a-m\n",
    "- Match a pattern in the beginning of the line  \n",
    "- Match a pattern at the end of the line"
   ]
  },
  {
   "cell_type": "code",
   "execution_count": 9,
   "metadata": {},
   "outputs": [
    {
     "name": "stdout",
     "output_type": "stream",
     "text": [
      "['M', 'y', ' ', 'b', 'o', 's', 's', ' ', 'a', 's', 'k', 'e', 'd', ' ', 'm', 'e', ' ', 't', 'o', ' ', 't', 'u', 'r', 'n', ' ', 'i', 'n', ' ', 'm', 'y', ' ', 'T', 'P', 'S', ' ', 'r', 'e', 'p', 'o', 'r', 't', 's', '.', ' ', ' ', ' ', ' ', ' ', ' ', ' ', ' ', 'I', ' ', 't', 'o', 'l', 'd', ' ', 'h', 'i', 'm', ' ', 't', 'h', 'e', 'y', ' ', 'w', 'e', 'r', 'e', ' ', 'd', 'o', 'n', 'e', ',', ' ', 'b', 'u', 't', ' ', 't', 'h', 'e', 'y', ' ', 'a', 'r', 'e', ' ', 'n', 'o', 't', '.']\n"
     ]
    }
   ],
   "source": [
    "print(re.findall('.',text))"
   ]
  },
  {
   "cell_type": "code",
   "execution_count": 10,
   "metadata": {},
   "outputs": [
    {
     "name": "stdout",
     "output_type": "stream",
     "text": [
      "['M', 'y', ' ', 'o', 's', 's', ' ', 's', ' ', ' ', 't', 'o', ' ', 't', 'u', 'r', 'n', ' ', 'n', ' ', 'y', ' ', 'T', 'P', 'S', ' ', 'r', 'p', 'o', 'r', 't', 's', '.', '\\n', ' ', ' ', ' ', ' ', ' ', ' ', ' ', ' ', 'I', ' ', 't', 'o', ' ', ' ', 't', 'y', ' ', 'w', 'r', ' ', 'o', 'n', ',', ' ', 'u', 't', ' ', 't', 'y', ' ', 'r', ' ', 'n', 'o', 't', '.']\n"
     ]
    }
   ],
   "source": [
    "print(re.findall('[^a-m]',text))\n",
    "#todo lo que no sea entre a y m minusculas"
   ]
  },
  {
   "cell_type": "code",
   "execution_count": 11,
   "metadata": {},
   "outputs": [
    {
     "data": {
      "text/plain": [
       "['My']"
      ]
     },
     "execution_count": 11,
     "metadata": {},
     "output_type": "execute_result"
    }
   ],
   "source": [
    "re.findall('^My',text)"
   ]
  },
  {
   "cell_type": "code",
   "execution_count": 12,
   "metadata": {},
   "outputs": [
    {
     "data": {
      "text/plain": [
       "['not.']"
      ]
     },
     "execution_count": 12,
     "metadata": {},
     "output_type": "execute_result"
    }
   ],
   "source": [
    "re.findall('not.$',text)"
   ]
  },
  {
   "cell_type": "code",
   "execution_count": 13,
   "metadata": {
    "ExecuteTime": {
     "end_time": "2019-12-16T19:31:28.131079Z",
     "start_time": "2019-12-16T19:31:28.127406Z"
    }
   },
   "outputs": [
    {
     "name": "stdout",
     "output_type": "stream",
     "text": [
      "['boss', 'TPS', 'reports']\n"
     ]
    }
   ],
   "source": [
    "pattern = 'boss|TPS|reports'\n",
    "print(re.findall(pattern, text))"
   ]
  },
  {
   "cell_type": "code",
   "execution_count": 15,
   "metadata": {
    "ExecuteTime": {
     "end_time": "2019-12-16T19:31:28.138180Z",
     "start_time": "2019-12-16T19:31:28.135635Z"
    }
   },
   "outputs": [],
   "source": [
    "text = \"Is the correct spelling color or colour?\""
   ]
  },
  {
   "cell_type": "code",
   "execution_count": 16,
   "metadata": {
    "ExecuteTime": {
     "end_time": "2019-12-16T19:31:28.143538Z",
     "start_time": "2019-12-16T19:31:28.140275Z"
    }
   },
   "outputs": [
    {
     "name": "stdout",
     "output_type": "stream",
     "text": [
      "['color', 'colour']\n"
     ]
    }
   ],
   "source": [
    "#previous character is optional\n",
    "pattern = \"colou?r\"\n",
    "print(re.findall(pattern, text))"
   ]
  },
  {
   "cell_type": "code",
   "execution_count": 17,
   "metadata": {
    "ExecuteTime": {
     "end_time": "2019-12-16T19:31:28.148180Z",
     "start_time": "2019-12-16T19:31:28.145806Z"
    }
   },
   "outputs": [],
   "source": [
    "text = \"Let's see how we can match the following: aw, aww, awww, awwww, awwwww\""
   ]
  },
  {
   "cell_type": "markdown",
   "metadata": {
    "ExecuteTime": {
     "end_time": "2019-12-16T19:27:23.277633Z",
     "start_time": "2019-12-16T19:27:23.272932Z"
    }
   },
   "source": [
    "Find the following pattern in the text:\n",
    "- a followed by w two times\n",
    "- a followed by w at least two times\n",
    "- same as above but only 3 w\n",
    "- non-numeric"
   ]
  },
  {
   "cell_type": "code",
   "execution_count": 18,
   "metadata": {},
   "outputs": [
    {
     "data": {
      "text/plain": [
       "['aww', 'aww', 'aww', 'aww']"
      ]
     },
     "execution_count": 18,
     "metadata": {},
     "output_type": "execute_result"
    }
   ],
   "source": [
    "re.findall('aw{2}',text)"
   ]
  },
  {
   "cell_type": "code",
   "execution_count": 19,
   "metadata": {},
   "outputs": [
    {
     "data": {
      "text/plain": [
       "['aww', 'awww', 'awwww', 'awwwww']"
      ]
     },
     "execution_count": 19,
     "metadata": {},
     "output_type": "execute_result"
    }
   ],
   "source": [
    "re.findall('aw{2,}',text)\n",
    "#almenos dos veces"
   ]
  },
  {
   "cell_type": "code",
   "execution_count": 21,
   "metadata": {},
   "outputs": [
    {
     "data": {
      "text/plain": [
       "['aww', 'awww', 'awww', 'awww']"
      ]
     },
     "execution_count": 21,
     "metadata": {},
     "output_type": "execute_result"
    }
   ],
   "source": [
    "re.findall('aw{2,3}',text)\n",
    "#solo3"
   ]
  },
  {
   "cell_type": "code",
   "execution_count": 23,
   "metadata": {},
   "outputs": [
    {
     "name": "stdout",
     "output_type": "stream",
     "text": [
      "['L', 'e', 't', \"'\", 's', ' ', 's', 'e', 'e', ' ', 'h', 'o', 'w', ' ', 'w', 'e', ' ', 'c', 'a', 'n', ' ', 'm', 'a', 't', 'c', 'h', ' ', 't', 'h', 'e', ' ', 'f', 'o', 'l', 'l', 'o', 'w', 'i', 'n', 'g', ':', ' ', 'a', 'w', ',', ' ', 'a', 'w', 'w', ',', ' ', 'a', 'w', 'w', 'w', ',', ' ', 'a', 'w', 'w', 'w', 'w', ',', ' ', 'a', 'w', 'w', 'w', 'w', 'w']\n"
     ]
    }
   ],
   "source": [
    "print(re.findall('\\D',text))"
   ]
  },
  {
   "cell_type": "code",
   "execution_count": 24,
   "metadata": {
    "ExecuteTime": {
     "end_time": "2019-12-16T19:31:28.218543Z",
     "start_time": "2019-12-16T19:31:28.216077Z"
    }
   },
   "outputs": [],
   "source": [
    "text = \"If you tell the truth, you don't have to remember anything.\""
   ]
  },
  {
   "cell_type": "markdown",
   "metadata": {
    "ExecuteTime": {
     "end_time": "2019-12-16T19:27:23.277633Z",
     "start_time": "2019-12-16T19:27:23.272932Z"
    }
   },
   "source": [
    "Find the following pattern in the text:\n",
    "- all words\n",
    "- all words with more than 4 letters"
   ]
  },
  {
   "cell_type": "code",
   "execution_count": 25,
   "metadata": {},
   "outputs": [
    {
     "name": "stdout",
     "output_type": "stream",
     "text": [
      "['I', 'f', 'y', 'o', 'u', 't', 'e', 'l', 'l', 't', 'h', 'e', 't', 'r', 'u', 't', 'h', ',', 'y', 'o', 'u', 'd', 'o', 'n', \"'\", 't', 'h', 'a', 'v', 'e', 't', 'o', 'r', 'e', 'm', 'e', 'm', 'b', 'e', 'r', 'a', 'n', 'y', 't', 'h', 'i', 'n', 'g', '.']\n"
     ]
    }
   ],
   "source": [
    "print(re.findall('\\S',text))#este NO"
   ]
  },
  {
   "cell_type": "code",
   "execution_count": 26,
   "metadata": {},
   "outputs": [
    {
     "name": "stdout",
     "output_type": "stream",
     "text": [
      "['I', 'f', 'y', 'o', 'u', 't', 'e', 'l', 'l', 't', 'h', 'e', 't', 'r', 'u', 't', 'h', 'y', 'o', 'u', 'd', 'o', 'n', 't', 'h', 'a', 'v', 'e', 't', 'o', 'r', 'e', 'm', 'e', 'm', 'b', 'e', 'r', 'a', 'n', 'y', 't', 'h', 'i', 'n', 'g']\n"
     ]
    }
   ],
   "source": [
    "print(re.findall('\\w',text))#no hay puntos ni espacios pero quiero la palabra. hay que decirle cada vez que veas un espacio corta"
   ]
  },
  {
   "cell_type": "code",
   "execution_count": 27,
   "metadata": {},
   "outputs": [
    {
     "name": "stdout",
     "output_type": "stream",
     "text": [
      "['If', 'you', 'tell', 'the', 'truth', 'you', 'don', 't', 'have', 'to', 'remember', 'anything']\n"
     ]
    }
   ],
   "source": [
    "print(re.findall('\\w+',text))#corta hasta que haya almenos un alfanumerico"
   ]
  },
  {
   "cell_type": "code",
   "execution_count": 28,
   "metadata": {},
   "outputs": [
    {
     "name": "stdout",
     "output_type": "stream",
     "text": [
      "['tell', 'truth', 'have', 'remember', 'anything']\n"
     ]
    }
   ],
   "source": [
    "#all words with more than 4 letters\n",
    "print(re.findall('\\w{4,}',text))"
   ]
  },
  {
   "cell_type": "code",
   "execution_count": 29,
   "metadata": {
    "ExecuteTime": {
     "end_time": "2019-12-16T19:31:28.298040Z",
     "start_time": "2019-12-16T19:31:28.295513Z"
    }
   },
   "outputs": [],
   "source": [
    "text = \"\"\"Terra Power, a nuclear-energy company founded by Bill Gates, is unlikely to  \n",
    "follow through on building a demonstration reactor in China, due largely to \n",
    "the Trump administration’s crackdown on the country.\"\"\""
   ]
  },
  {
   "cell_type": "markdown",
   "metadata": {
    "ExecuteTime": {
     "end_time": "2019-12-16T19:27:23.277633Z",
     "start_time": "2019-12-16T19:27:23.272932Z"
    }
   },
   "source": [
    "Find the following pattern in the text:\n",
    "- Grouped capital words or individual"
   ]
  },
  {
   "cell_type": "code",
   "execution_count": 30,
   "metadata": {
    "ExecuteTime": {
     "end_time": "2019-12-16T19:31:28.377518Z",
     "start_time": "2019-12-16T19:31:28.374863Z"
    }
   },
   "outputs": [],
   "source": [
    "text = \"\"\"\n",
    "Aeromexico 800-237-6639\n",
    "Air Canada 888-247-2262\n",
    "Air Canada Rouge 888-247-2262\n",
    "Air Creebec 800-567-6567\n",
    "Air Inuit 800-361-2965\n",
    "Air North 800-661-0407\n",
    "Air Tindi 888-545-6794\n",
    "Air Transat 866-847-1112\n",
    "\"\"\""
   ]
  },
  {
   "cell_type": "markdown",
   "metadata": {
    "ExecuteTime": {
     "end_time": "2019-12-16T19:27:23.277633Z",
     "start_time": "2019-12-16T19:27:23.272932Z"
    }
   },
   "source": [
    "Find the following pattern in the text:\n",
    "- all sequences of numbers"
   ]
  },
  {
   "cell_type": "code",
   "execution_count": 34,
   "metadata": {},
   "outputs": [
    {
     "data": {
      "text/plain": [
       "['800-237-6639',\n",
       " '888-247-2262',\n",
       " '888-247-2262',\n",
       " '800-567-6567',\n",
       " '800-361-2965',\n",
       " '800-661-0407',\n",
       " '888-545-6794',\n",
       " '866-847-1112']"
      ]
     },
     "execution_count": 34,
     "metadata": {},
     "output_type": "execute_result"
    }
   ],
   "source": [
    "re.findall('\\d+-\\d+-\\d+',text)"
   ]
  },
  {
   "cell_type": "code",
   "execution_count": null,
   "metadata": {},
   "outputs": [],
   "source": []
  }
 ],
 "metadata": {
  "kernelspec": {
   "display_name": "Python 3",
   "language": "python",
   "name": "python3"
  },
  "language_info": {
   "codemirror_mode": {
    "name": "ipython",
    "version": 3
   },
   "file_extension": ".py",
   "mimetype": "text/x-python",
   "name": "python",
   "nbconvert_exporter": "python",
   "pygments_lexer": "ipython3",
   "version": "3.7.5"
  },
  "latex_envs": {
   "LaTeX_envs_menu_present": true,
   "autoclose": false,
   "autocomplete": true,
   "bibliofile": "biblio.bib",
   "cite_by": "apalike",
   "current_citInitial": 1,
   "eqLabelWithNumbers": true,
   "eqNumInitial": 1,
   "hotkeys": {
    "equation": "Ctrl-E",
    "itemize": "Ctrl-I"
   },
   "labels_anchors": false,
   "latex_user_defs": false,
   "report_style_numbering": false,
   "user_envs_cfg": false
  },
  "toc": {
   "base_numbering": 1,
   "nav_menu": {},
   "number_sections": true,
   "sideBar": true,
   "skip_h1_title": false,
   "title_cell": "Table of Contents",
   "title_sidebar": "Contents",
   "toc_cell": false,
   "toc_position": {},
   "toc_section_display": true,
   "toc_window_display": false
  },
  "varInspector": {
   "cols": {
    "lenName": 16,
    "lenType": 16,
    "lenVar": 40
   },
   "kernels_config": {
    "python": {
     "delete_cmd_postfix": "",
     "delete_cmd_prefix": "del ",
     "library": "var_list.py",
     "varRefreshCmd": "print(var_dic_list())"
    },
    "r": {
     "delete_cmd_postfix": ") ",
     "delete_cmd_prefix": "rm(",
     "library": "var_list.r",
     "varRefreshCmd": "cat(var_dic_list()) "
    }
   },
   "types_to_exclude": [
    "module",
    "function",
    "builtin_function_or_method",
    "instance",
    "_Feature"
   ],
   "window_display": false
  }
 },
 "nbformat": 4,
 "nbformat_minor": 2
}
